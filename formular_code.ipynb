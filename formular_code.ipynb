{
 "cells": [
  {
   "cell_type": "code",
   "execution_count": 1,
   "metadata": {
    "collapsed": true
   },
   "outputs": [],
   "source": [
    "import os\n",
    "import math\n",
    "import re\n",
    "import numpy as np\n",
    "import re\n",
    "import pandas as pd\n",
    "import copy"
   ]
  },
  {
   "cell_type": "code",
   "execution_count": 2,
   "metadata": {
    "collapsed": false
   },
   "outputs": [
    {
     "data": {
      "text/html": [
       "<div>\n",
       "<table border=\"1\" class=\"dataframe\">\n",
       "  <thead>\n",
       "    <tr style=\"text-align: right;\">\n",
       "      <th></th>\n",
       "      <th>food</th>\n",
       "      <th>number_of_food</th>\n",
       "      <th>price</th>\n",
       "      <th>times</th>\n",
       "    </tr>\n",
       "  </thead>\n",
       "  <tbody>\n",
       "    <tr>\n",
       "      <th>0</th>\n",
       "      <td>egg</td>\n",
       "      <td>2</td>\n",
       "      <td>7</td>\n",
       "      <td>2</td>\n",
       "    </tr>\n",
       "    <tr>\n",
       "      <th>1</th>\n",
       "      <td>potato</td>\n",
       "      <td>3</td>\n",
       "      <td>8</td>\n",
       "      <td>6</td>\n",
       "    </tr>\n",
       "    <tr>\n",
       "      <th>2</th>\n",
       "      <td>carrot</td>\n",
       "      <td>9</td>\n",
       "      <td>9</td>\n",
       "      <td>8</td>\n",
       "    </tr>\n",
       "  </tbody>\n",
       "</table>\n",
       "</div>"
      ],
      "text/plain": [
       "     food  number_of_food  price  times\n",
       "0     egg               2      7      2\n",
       "1  potato               3      8      6\n",
       "2  carrot               9      9      8"
      ]
     },
     "execution_count": 2,
     "metadata": {},
     "output_type": "execute_result"
    }
   ],
   "source": [
    "templ='FormularTemplate'\n",
    "pd.read_csv(os.getcwd()+'/template_folder/'+templ+'.csv', header=0)"
   ]
  },
  {
   "cell_type": "code",
   "execution_count": 3,
   "metadata": {
    "collapsed": false
   },
   "outputs": [],
   "source": [
    "class tmplset:\n",
    "    def __init__(self,TmplTpye='formular',sph='\\*\\*-',spt='-\\*\\*'):\n",
    "        self.TmplType=TmplTpye\n",
    "        self.sph=sph\n",
    "        self.spt=spt\n",
    "class CaseSetting:\n",
    "    def __init__(self,template_name , cases_list ,file_name_pre='',file_name_post='',output_place=''):\n",
    "        self.template_name=template_name\n",
    "        self.cases_list=cases_list\n",
    "        self.file_name_pre=file_name_pre\n",
    "        self.file_name_post=file_name_post\n",
    "        self.output_place=output_place\n",
    "    \n",
    "    \n",
    "    \n",
    "cases=pd.read_csv(os.getcwd()+'/template_folder/'+templ+'.csv', header=0)\n",
    "cs=CaseSetting('template_folder/'+templ+'.txt', cases,'iter2_case','.txt','outputformular')\n",
    "ts=tmplset()\n"
   ]
  },
  {
   "cell_type": "code",
   "execution_count": 42,
   "metadata": {
    "collapsed": false
   },
   "outputs": [
    {
     "name": "stdout",
     "output_type": "stream",
     "text": [
      "number_of_food**price+price/(number_of_food+price)is an expression with interpretation: 128.77777777777777\n",
      "number_of_food**price+price/(number_of_food+price)is an expression with interpretation: 128.77777777777777\n",
      "number_of_food**price+price/(number_of_food+price)is an expression with interpretation: 6561.727272727273\n",
      "number_of_food**price+price/(number_of_food+price)is an expression with interpretation: 6561.727272727273\n",
      "number_of_food**price+price/(number_of_food+price)is an expression with interpretation: 387420489.5\n",
      "number_of_food**price+price/(number_of_food+price)is an expression with interpretation: 387420489.5\n"
     ]
    }
   ],
   "source": [
    "\n",
    "def makefolder(output_place=''): # if the folder does not exist, make one here\n",
    "    current_place=os.getcwd()\n",
    "    if output_place=='':\n",
    "        pass \n",
    "    else:\n",
    "        if (os.path.exists(current_place+'/'+output_place)):\n",
    "            pass\n",
    "        else:\n",
    "            os.makedirs(current_place+'/'+output_place) \n",
    "        output_place=output_place+'/'\n",
    "    return output_place\n",
    "\n",
    "\n",
    "def explainer(key,dic):\n",
    "    if re.findall('\\W+', key): # there is an expression\n",
    "        # put the relevant varible in space\n",
    "        keywords=re.findall('\\w+', key)\n",
    "        for w in keywords:\n",
    "            #print(w)\n",
    "            if type(dic[w])==type('hh')or type(dic[w])==type('h'):            \n",
    "                exec(w+'=\"'+str(dic[w])+'\"')\n",
    "            else:\n",
    "                exec(w+'='+str(dic[w]))\n",
    "        result=''\n",
    "        print(key+'is an expression with interpretation: '+str(eval(key)))\n",
    "        return str(eval(key))\n",
    "    else:\n",
    "        #print(dic[key],'no complex expression')\n",
    "        return dic[key]\n",
    "    \n",
    "    \n",
    "\n",
    "\n",
    "\n",
    "\n",
    "def OneFile(j,filename,cs,ts=tmplset()):\n",
    "    uncertain_list=cs.cases_list.iloc[j,:]\n",
    "    filepath=cs.output_place\n",
    "    template=cs.template_name\n",
    "    \n",
    "    \n",
    "    \n",
    "    fp = open(filepath+filename,'w+') #create the file \n",
    "    input_lines = open(template).readlines()  \n",
    "    lines=input_lines\n",
    "    length=len(lines)   \n",
    "    \n",
    "    \n",
    "    sph=copy.copy(ts.sph)\n",
    "    spt=copy.copy(ts.spt)\n",
    "    sphl=len(sph.replace('\\\\',''))\n",
    "    sptl=len(spt.replace('\\\\',''))\n",
    "    sph=ts.sph\n",
    "    spt=ts.spt\n",
    "    #print(sph,spt)\n",
    "    for s in range(0,length):# write according to the template   # this is the core part\n",
    "        found=len(re.findall(sph+'.+?'+spt, lines[s]))\n",
    "        #print(found)\n",
    "        if found:\n",
    "            str_trial=lines[s]\n",
    "            new_string=''\n",
    "            begin=0\n",
    "            end=0\n",
    "            for m in re.finditer(sph+'.+?'+spt, str_trial):\n",
    "                new_string=new_string+str_trial[end:m.start()]\n",
    "                key=m.group(0)[sphl:-sptl]\n",
    "                content=explainer(key,uncertain_list)\n",
    "                try:\n",
    "                    #content=explainer(key)\n",
    "                    #content=uncertain_list[key]\n",
    "                    content=explainer(key,uncertain_list)\n",
    "                    \n",
    "                except:\n",
    "                    content='  [[[!error!]]]  '\n",
    "                    print('the key word \"'+key+'\"is not found')\n",
    "                new_string=new_string+str(content)\n",
    "                end=m.end()\n",
    "                #print('%02d-%02d: %s %s\\n\\n\\n' % (m.start(), m.end(), m.group(0),content))\n",
    "            new_string=new_string+str_trial[end:len(str_trial)]\n",
    "            fp.write(new_string)\n",
    "        else:\n",
    "            fp.write(lines[s])\n",
    "        \n",
    "        \n",
    "    fp.close() \n",
    "    \n",
    "def TXTgenerator(cs,ts=tmplset()):\n",
    "    \n",
    "    \n",
    "    cs.output_place=makefolder(cs.output_place)\n",
    "    file_list=[]   \n",
    "    \n",
    "    if os.path.isfile(cs.template_name): # do only when template exists  \n",
    "        current_place=os.getcwd() \n",
    "        for j in range(0,cs.cases_list.iloc[:,0].size):\n",
    "            filename= cs.file_name_pre+str(j+1)+cs.file_name_post\n",
    "            OneFile(j,filename,cs,ts)\n",
    "            file_list.append(filename)\n",
    "    else:\n",
    "        print (\".TXT template missing!\\n\") \n",
    "    cs.file_list=file_list\n",
    "\n",
    "TXTgenerator(cs,ts)"
   ]
  },
  {
   "cell_type": "code",
   "execution_count": 9,
   "metadata": {
    "collapsed": false
   },
   "outputs": [
    {
     "data": {
      "text/plain": [
       "['**-food-**', '**-food*price-**']"
      ]
     },
     "execution_count": 9,
     "metadata": {},
     "output_type": "execute_result"
    }
   ],
   "source": [
    "str_trial=\"for **-food-**   pay **-food*price-** to warlmart\"\n",
    "\n",
    "re.findall(r\"\\*\\*-+.+?-+\\*\\*\", str_trial)"
   ]
  },
  {
   "cell_type": "code",
   "execution_count": 42,
   "metadata": {
    "collapsed": false
   },
   "outputs": [
    {
     "data": {
      "text/plain": [
       "['**-food-**', '**-number_of_food-**', '**-food-**']"
      ]
     },
     "execution_count": 42,
     "metadata": {},
     "output_type": "execute_result"
    }
   ],
   "source": [
    "sph='\\*\\*-'\n",
    "spt='-\\*\\*'\n",
    "patern=sph+'\\w+'+spt\n",
    "re.findall(patern, str_trial)"
   ]
  },
  {
   "cell_type": "code",
   "execution_count": 43,
   "metadata": {
    "collapsed": false
   },
   "outputs": [
    {
     "data": {
      "text/plain": [
       "['**-food-**', '**-number_of_food-**', '**-food-**']"
      ]
     },
     "execution_count": 43,
     "metadata": {},
     "output_type": "execute_result"
    }
   ],
   "source": [
    "re.findall(sph+'\\w+'+spt, str_trial)"
   ]
  },
  {
   "cell_type": "code",
   "execution_count": 52,
   "metadata": {
    "collapsed": false
   },
   "outputs": [
    {
     "name": "stdout",
     "output_type": "stream",
     "text": [
      "14-24: **-food-** egg\n",
      "32-52: **-number_of_food-** 2\n",
      "56-66: **-food-** egg\n",
      "I like eating egg, I ate 2 of egg today. **\n"
     ]
    }
   ],
   "source": [
    "sphl=len(sph.replace('\\\\',''))\n",
    "sptl=len(spt.replace('\\\\',''))\n",
    "\n",
    "\n",
    "new_string=''\n",
    "begin=0\n",
    "end=0\n",
    "for m in re.finditer(sph+'\\w+'+spt, str_trial):\n",
    "    new_string=new_string+str_trial[end:m.start()]\n",
    "    key=m.group(0)[sphl:-sptl]\n",
    "    content=cases.iloc[0,:][key]\n",
    "    new_string=new_string+str(content)\n",
    "    end=m.end()\n",
    "    print('%02d-%02d: %s %s' % (m.start(), m.end(), m.group(0),content))\n",
    "new_string=new_string+str_trial[end:len(str_trial)]\n",
    "print(new_string)"
   ]
  },
  {
   "cell_type": "code",
   "execution_count": 46,
   "metadata": {
    "collapsed": false
   },
   "outputs": [
    {
     "data": {
      "text/plain": [
       "3"
      ]
     },
     "execution_count": 46,
     "metadata": {},
     "output_type": "execute_result"
    }
   ],
   "source": [
    "sphl=len(sph)\n",
    "len(spt.replace('\\\\',''))"
   ]
  },
  {
   "cell_type": "code",
   "execution_count": 47,
   "metadata": {
    "collapsed": false
   },
   "outputs": [
    {
     "data": {
      "text/plain": [
       "'-\\\\*\\\\*'"
      ]
     },
     "execution_count": 47,
     "metadata": {},
     "output_type": "execute_result"
    }
   ],
   "source": [
    "spt"
   ]
  },
  {
   "cell_type": "code",
   "execution_count": 18,
   "metadata": {
    "collapsed": false
   },
   "outputs": [
    {
     "data": {
      "text/plain": [
       "5"
      ]
     },
     "execution_count": 18,
     "metadata": {},
     "output_type": "execute_result"
    }
   ],
   "source": [
    "eval('2+3')"
   ]
  },
  {
   "cell_type": "code",
   "execution_count": 20,
   "metadata": {
    "collapsed": false
   },
   "outputs": [
    {
     "data": {
      "text/plain": [
       "11"
      ]
     },
     "execution_count": 20,
     "metadata": {},
     "output_type": "execute_result"
    }
   ],
   "source": [
    "a=5\n",
    "b=6\n",
    "eval('a+b')"
   ]
  },
  {
   "cell_type": "code",
   "execution_count": 21,
   "metadata": {
    "collapsed": false
   },
   "outputs": [
    {
     "ename": "SyntaxError",
     "evalue": "invalid syntax (<string>, line 1)",
     "output_type": "error",
     "traceback": [
      "\u001b[0;36m  File \u001b[0;32m\"<string>\"\u001b[0;36m, line \u001b[0;32m1\u001b[0m\n\u001b[0;31m    for i in range(0,10):print(i)\u001b[0m\n\u001b[0m      ^\u001b[0m\n\u001b[0;31mSyntaxError\u001b[0m\u001b[0;31m:\u001b[0m invalid syntax\n"
     ]
    }
   ],
   "source": [
    "eval(\"for i in range(0,10):print(i)\")"
   ]
  },
  {
   "cell_type": "code",
   "execution_count": 26,
   "metadata": {
    "collapsed": false
   },
   "outputs": [
    {
     "ename": "SyntaxError",
     "evalue": "invalid syntax (<string>, line 1)",
     "output_type": "error",
     "traceback": [
      "\u001b[0;36m  File \u001b[0;32m\"<string>\"\u001b[0;36m, line \u001b[0;32m1\u001b[0m\n\u001b[0;31m    if(1>0) : {print(1);}else:{print(2)}\u001b[0m\n\u001b[0m                       ^\u001b[0m\n\u001b[0;31mSyntaxError\u001b[0m\u001b[0;31m:\u001b[0m invalid syntax\n"
     ]
    }
   ],
   "source": [
    "exec('if(1>0) : {print(1);}else:{print(2)}')"
   ]
  },
  {
   "cell_type": "code",
   "execution_count": 29,
   "metadata": {
    "collapsed": true
   },
   "outputs": [],
   "source": [
    "exec('aaa=3')"
   ]
  },
  {
   "cell_type": "code",
   "execution_count": 30,
   "metadata": {
    "collapsed": false
   },
   "outputs": [
    {
     "data": {
      "text/plain": [
       "3"
      ]
     },
     "execution_count": 30,
     "metadata": {},
     "output_type": "execute_result"
    }
   ],
   "source": [
    "aaa\n"
   ]
  },
  {
   "cell_type": "code",
   "execution_count": null,
   "metadata": {
    "collapsed": true
   },
   "outputs": [],
   "source": []
  }
 ],
 "metadata": {
  "anaconda-cloud": {},
  "kernelspec": {
   "display_name": "Python [conda root]",
   "language": "python",
   "name": "conda-root-py"
  },
  "language_info": {
   "codemirror_mode": {
    "name": "ipython",
    "version": 3
   },
   "file_extension": ".py",
   "mimetype": "text/x-python",
   "name": "python",
   "nbconvert_exporter": "python",
   "pygments_lexer": "ipython3",
   "version": "3.5.2"
  }
 },
 "nbformat": 4,
 "nbformat_minor": 1
}
