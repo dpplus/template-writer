{
 "cells": [
  {
   "cell_type": "code",
   "execution_count": 66,
   "metadata": {
    "collapsed": true
   },
   "outputs": [],
   "source": [
    "import os\n",
    "import math\n",
    "import re\n",
    "import numpy as np\n",
    "import re\n",
    "import pandas as pd\n",
    "import copy"
   ]
  },
  {
   "cell_type": "code",
   "execution_count": 69,
   "metadata": {
    "collapsed": false
   },
   "outputs": [
    {
     "data": {
      "text/html": [
       "<div>\n",
       "<table border=\"1\" class=\"dataframe\">\n",
       "  <thead>\n",
       "    <tr style=\"text-align: right;\">\n",
       "      <th></th>\n",
       "      <th>food</th>\n",
       "      <th>number_of_food</th>\n",
       "    </tr>\n",
       "  </thead>\n",
       "  <tbody>\n",
       "    <tr>\n",
       "      <th>0</th>\n",
       "      <td>egg</td>\n",
       "      <td>2</td>\n",
       "    </tr>\n",
       "    <tr>\n",
       "      <th>1</th>\n",
       "      <td>potato</td>\n",
       "      <td>3</td>\n",
       "    </tr>\n",
       "    <tr>\n",
       "      <th>2</th>\n",
       "      <td>carrot</td>\n",
       "      <td>9</td>\n",
       "    </tr>\n",
       "  </tbody>\n",
       "</table>\n",
       "</div>"
      ],
      "text/plain": [
       "     food  number_of_food\n",
       "0     egg               2\n",
       "1  potato               3\n",
       "2  carrot               9"
      ]
     },
     "execution_count": 69,
     "metadata": {},
     "output_type": "execute_result"
    }
   ],
   "source": [
    "templ='SimpleTemplate'\n",
    "pd.read_csv(os.getcwd()+'/template_folder/'+templ+'.csv', header=0)"
   ]
  },
  {
   "cell_type": "code",
   "execution_count": 74,
   "metadata": {
    "collapsed": false
   },
   "outputs": [],
   "source": [
    "class tmplset:\n",
    "    def __init__(self,TmplTpye='basic',sph='\\*\\*-',spt='-\\*\\*'):\n",
    "        self.TmplType=TmplTpye\n",
    "        self.sph=sph\n",
    "        self.spt=spt\n",
    "class CaseSetting:\n",
    "    def __init__(self,template_name , cases_list ,file_name_pre='',file_name_post='',output_place=''):\n",
    "        self.template_name=template_name\n",
    "        self.cases_list=cases_list\n",
    "        self.file_name_pre=file_name_pre\n",
    "        self.file_name_post=file_name_post\n",
    "        self.output_place=output_place\n",
    "    \n",
    "    \n",
    "    \n",
    "cases=pd.read_csv(os.getcwd()+'/template_folder/'+templ+'.csv', header=0)\n",
    "cs=CaseSetting('template_folder/'+templ+'.txt', cases,'iter2_case','.txt','output2')\n",
    "ts=tmplset()\n"
   ]
  },
  {
   "cell_type": "code",
   "execution_count": 78,
   "metadata": {
    "collapsed": false
   },
   "outputs": [
    {
     "name": "stdout",
     "output_type": "stream",
     "text": [
      "14-24: **-food-** egg\n",
      "\n",
      "\n",
      "\n",
      "32-52: **-number_of_food-** 2\n",
      "\n",
      "\n",
      "\n",
      "56-66: **-food-** egg\n",
      "\n",
      "\n",
      "\n",
      "35-45: **-food-** egg\n",
      "\n",
      "\n",
      "\n",
      "35-45: **-food-** egg\n",
      "\n",
      "\n",
      "\n",
      "00-20: **-number_of_food-** 2\n",
      "\n",
      "\n",
      "\n",
      "14-24: **-food-** potato\n",
      "\n",
      "\n",
      "\n",
      "32-52: **-number_of_food-** 3\n",
      "\n",
      "\n",
      "\n",
      "56-66: **-food-** potato\n",
      "\n",
      "\n",
      "\n",
      "35-45: **-food-** potato\n",
      "\n",
      "\n",
      "\n",
      "35-45: **-food-** potato\n",
      "\n",
      "\n",
      "\n",
      "00-20: **-number_of_food-** 3\n",
      "\n",
      "\n",
      "\n",
      "14-24: **-food-** carrot\n",
      "\n",
      "\n",
      "\n",
      "32-52: **-number_of_food-** 9\n",
      "\n",
      "\n",
      "\n",
      "56-66: **-food-** carrot\n",
      "\n",
      "\n",
      "\n",
      "35-45: **-food-** carrot\n",
      "\n",
      "\n",
      "\n",
      "35-45: **-food-** carrot\n",
      "\n",
      "\n",
      "\n",
      "00-20: **-number_of_food-** 9\n",
      "\n",
      "\n",
      "\n"
     ]
    }
   ],
   "source": [
    "\n",
    "def makefolder(output_place=''): # if the folder does not exist, make one here\n",
    "    current_place=os.getcwd()\n",
    "    if output_place=='':\n",
    "        pass \n",
    "    else:\n",
    "        if (os.path.exists(current_place+'/'+output_place)):\n",
    "            pass\n",
    "        else:\n",
    "            os.makedirs(current_place+'/'+output_place) \n",
    "        output_place=output_place+'/'\n",
    "    return output_place\n",
    "def OneFile(j,filename,cs,ts=tmplset()):\n",
    "    uncertain_list=cs.cases_list.iloc[j,:]\n",
    "    filepath=cs.output_place\n",
    "    template=cs.template_name\n",
    "    \n",
    "    \n",
    "    \n",
    "    fp = open(filepath+filename,'w+') #create the file \n",
    "    input_lines = open(template).readlines()  \n",
    "    lines=input_lines\n",
    "    length=len(lines)   \n",
    "    \n",
    "    \n",
    "    sph=copy.copy(ts.sph)\n",
    "    spt=copy.copy(ts.spt)\n",
    "    sphl=len(sph.replace('\\\\',''))\n",
    "    sptl=len(spt.replace('\\\\',''))\n",
    "    sph=ts.sph\n",
    "    spt=ts.spt\n",
    "    #print(sph,spt)\n",
    "    for s in range(0,length):# write according to the template   # this is the core part\n",
    "        found=len(re.findall(sph+'\\w+'+spt, lines[s]))\n",
    "        #print(found)\n",
    "        if found:\n",
    "            str_trial=lines[s]\n",
    "            new_string=''\n",
    "            begin=0\n",
    "            end=0\n",
    "            for m in re.finditer(sph+'\\w+'+spt, str_trial):\n",
    "                new_string=new_string+str_trial[end:m.start()]\n",
    "                key=m.group(0)[sphl:-sptl]\n",
    "                try:\n",
    "                    content=uncertain_list[key]\n",
    "                except:\n",
    "                    content='  [[[!error!]]]  '\n",
    "                    print('the key word \"'+key+'\"is not found')\n",
    "                new_string=new_string+str(content)\n",
    "                end=m.end()\n",
    "                #print('%02d-%02d: %s %s\\n\\n\\n' % (m.start(), m.end(), m.group(0),content))\n",
    "            new_string=new_string+str_trial[end:len(str_trial)]\n",
    "            fp.write(new_string)\n",
    "        else:\n",
    "            fp.write(lines[s])\n",
    "        \n",
    "        \n",
    "    fp.close() \n",
    "    \n",
    "def TXTgenerator(cs,ts=tmplset()):\n",
    "    \n",
    "    \n",
    "    cs.output_place=makefolder(cs.output_place)\n",
    "    file_list=[]   \n",
    "    \n",
    "    if os.path.isfile(cs.template_name): # do only when template exists  \n",
    "        current_place=os.getcwd() \n",
    "        for j in range(0,cs.cases_list.iloc[:,0].size):\n",
    "            filename= cs.file_name_pre+str(j+1)+cs.file_name_post\n",
    "            OneFile(j,filename,cs,ts)\n",
    "            file_list.append(filename)\n",
    "    else:\n",
    "        print (\".TXT template missing!\\n\") \n",
    "    cs.file_list=file_list\n",
    "\n",
    "TXTgenerator(cs,ts)"
   ]
  },
  {
   "cell_type": "code",
   "execution_count": 41,
   "metadata": {
    "collapsed": false
   },
   "outputs": [
    {
     "data": {
      "text/plain": [
       "['**-food-**', '**-number_of_food-**', '**-food-**']"
      ]
     },
     "execution_count": 41,
     "metadata": {},
     "output_type": "execute_result"
    }
   ],
   "source": [
    "str_trial=\"I like eating **-food-**, I ate **-number_of_food-** of **-food-** today. **\"\n",
    "\n",
    "re.findall(r\"\\*\\*-+\\w+-+\\*\\*\", str_trial)"
   ]
  },
  {
   "cell_type": "code",
   "execution_count": 42,
   "metadata": {
    "collapsed": false
   },
   "outputs": [
    {
     "data": {
      "text/plain": [
       "['**-food-**', '**-number_of_food-**', '**-food-**']"
      ]
     },
     "execution_count": 42,
     "metadata": {},
     "output_type": "execute_result"
    }
   ],
   "source": [
    "sph='\\*\\*-'\n",
    "spt='-\\*\\*'\n",
    "patern=sph+'\\w+'+spt\n",
    "re.findall(patern, str_trial)"
   ]
  },
  {
   "cell_type": "code",
   "execution_count": 43,
   "metadata": {
    "collapsed": false
   },
   "outputs": [
    {
     "data": {
      "text/plain": [
       "['**-food-**', '**-number_of_food-**', '**-food-**']"
      ]
     },
     "execution_count": 43,
     "metadata": {},
     "output_type": "execute_result"
    }
   ],
   "source": [
    "re.findall(sph+'\\w+'+spt, str_trial)"
   ]
  },
  {
   "cell_type": "code",
   "execution_count": 52,
   "metadata": {
    "collapsed": false
   },
   "outputs": [
    {
     "name": "stdout",
     "output_type": "stream",
     "text": [
      "14-24: **-food-** egg\n",
      "32-52: **-number_of_food-** 2\n",
      "56-66: **-food-** egg\n",
      "I like eating egg, I ate 2 of egg today. **\n"
     ]
    }
   ],
   "source": [
    "sphl=len(sph.replace('\\\\',''))\n",
    "sptl=len(spt.replace('\\\\',''))\n",
    "\n",
    "\n",
    "new_string=''\n",
    "begin=0\n",
    "end=0\n",
    "for m in re.finditer(sph+'\\w+'+spt, str_trial):\n",
    "    new_string=new_string+str_trial[end:m.start()]\n",
    "    key=m.group(0)[sphl:-sptl]\n",
    "    content=cases.iloc[0,:][key]\n",
    "    new_string=new_string+str(content)\n",
    "    end=m.end()\n",
    "    print('%02d-%02d: %s %s' % (m.start(), m.end(), m.group(0),content))\n",
    "new_string=new_string+str_trial[end:len(str_trial)]\n",
    "print(new_string)"
   ]
  },
  {
   "cell_type": "code",
   "execution_count": 46,
   "metadata": {
    "collapsed": false
   },
   "outputs": [
    {
     "data": {
      "text/plain": [
       "3"
      ]
     },
     "execution_count": 46,
     "metadata": {},
     "output_type": "execute_result"
    }
   ],
   "source": [
    "sphl=len(sph)\n",
    "len(spt.replace('\\\\',''))"
   ]
  },
  {
   "cell_type": "code",
   "execution_count": 47,
   "metadata": {
    "collapsed": false
   },
   "outputs": [
    {
     "data": {
      "text/plain": [
       "'-\\\\*\\\\*'"
      ]
     },
     "execution_count": 47,
     "metadata": {},
     "output_type": "execute_result"
    }
   ],
   "source": [
    "spt"
   ]
  },
  {
   "cell_type": "code",
   "execution_count": null,
   "metadata": {
    "collapsed": true
   },
   "outputs": [],
   "source": []
  }
 ],
 "metadata": {
  "anaconda-cloud": {},
  "kernelspec": {
   "display_name": "Python [conda root]",
   "language": "python",
   "name": "conda-root-py"
  },
  "language_info": {
   "codemirror_mode": {
    "name": "ipython",
    "version": 3
   },
   "file_extension": ".py",
   "mimetype": "text/x-python",
   "name": "python",
   "nbconvert_exporter": "python",
   "pygments_lexer": "ipython3",
   "version": "3.5.2"
  }
 },
 "nbformat": 4,
 "nbformat_minor": 1
}
